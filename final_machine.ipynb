{
 "cells": [
  {
   "cell_type": "code",
   "execution_count": 4,
   "metadata": {},
   "outputs": [
    {
     "name": "stderr",
     "output_type": "stream",
     "text": [
      "C:\\Users\\Erin.Ford\\anaconda\\Anaconda3\\lib\\site-packages\\h5py\\__init__.py:36: FutureWarning: Conversion of the second argument of issubdtype from `float` to `np.floating` is deprecated. In future, it will be treated as `np.float64 == np.dtype(float).type`.\n",
      "  from ._conv import register_converters as _register_converters\n",
      "Using TensorFlow backend.\n"
     ]
    }
   ],
   "source": [
    "import numpy as np\n",
    "import os\n",
    "\n",
    "import pandas as pd\n",
    "%matplotlib inline\n",
    "import matplotlib.pyplot as plt\n",
    "from sklearn.model_selection import train_test_split, GridSearchCV\n",
    "import keras\n",
    "from keras.models import Sequential, load_model\n",
    "from keras.layers import Dense, Dropout, Flatten\n",
    "from keras.layers.convolutional import Conv2D, MaxPooling2D\n",
    "from keras.utils import np_utils\n",
    "from keras import backend as K\n",
    "from keras.utils import to_categorical\n",
    "K.set_image_dim_ordering('th')\n",
    "from sklearn.preprocessing import MinMaxScaler"
   ]
  },
  {
   "cell_type": "code",
   "execution_count": 5,
   "metadata": {
    "scrolled": true
   },
   "outputs": [
    {
     "name": "stdout",
     "output_type": "stream",
     "text": [
      "no_of_pics, pixels_size\n",
      "(123202, 784)\n",
      "(253791, 784)\n",
      "(124612, 784)\n",
      "(120890, 784)\n"
     ]
    }
   ],
   "source": [
    "cat = np.load('cat.npy')\n",
    "penguin = np.load('penguin.npy')\n",
    "ant = np.load('ant.npy')\n",
    "bee = np.load('bee.npy')\n",
    "flamingo = np.load('flamingo.npy')\n",
    "owl = np.load('owl.npy')\n",
    "pig = np.load('pig.npy')\n",
    "dolphin = np.load('dolphin.npy')\n",
    "snake = np.load('snake.npy')\n",
    "ice_cream = np.load('ice_cream.npy')\n",
    "sun = np.load('sun.npy')\n",
    "mushroom = np.load('mushroom.npy')\n",
    "flower = np.load('flower.npy')\n",
    "cactus = np.load('cactus.npy')\n",
    "\n",
    "\n",
    "# print number of images in dataset and numpy array size of each image\n",
    "print (\"no_of_pics, pixels_size\")\n",
    "print(cat.shape)\n",
    "print(penguin.shape)\n",
    "print(ant.shape)\n",
    "print(bee.shape)\n"
   ]
  },
  {
   "cell_type": "code",
   "execution_count": 3,
   "metadata": {},
   "outputs": [],
   "source": [
    "#Add a column to each one as an identifier\n",
    "cat = np.c_[cat, np.zeros(len(cat))]\n",
    "penguin = np.c_[penguin, np.ones(len(penguin))]\n",
    "ant = np.c_[ant, 2*np.ones(len(ant))]\n",
    "bee = np.c_[bee, 3*np.ones(len(bee))]\n",
    "flamingo = np.c_[flamingo, 4*np.ones(len(flamingo))]\n",
    "owl = np.c_[owl, 5*np.ones(len(owl))]\n",
    "pig = np.c_[pig, 6*np.ones(len(pig))]\n",
    "dolphin = np.c_[dolphin, 7*np.ones(len(dolphin))]\n",
    "snake = np.c_[snake, 8*np.ones(len(snake))]\n",
    "ice_cream = np.c_[ice_cream, 9*np.ones(len(ice_cream))]\n",
    "sun = np.c_[sun, 10*np.ones(len(sun))]\n",
    "mushroom = np.c_[mushroom, 11*np.ones(len(mushroom))]\n",
    "flower = np.c_[flower, 12*np.ones(len(flower))]\n",
    "cactus = np.c_[cactus, 13*np.ones(len(cactus))]\n"
   ]
  },
  {
   "cell_type": "code",
   "execution_count": 6,
   "metadata": {},
   "outputs": [],
   "source": [
    "# merge the arrays, and split the features (X) and labels (y). Convert to float32 to save some memory.\n",
    "X = np.concatenate((cat[:10000,:-1], penguin[:10000,:-1], ant[:10000,:-1], bee[:10000,:-1], flamingo[:10000,:-1], owl[:10000,:-1], pig[:10000,:-1], dolphin[:10000,:-1], snake[:10000,:-1]\\\n",
    "                   , ice_cream[:10000,:-1], sun[:10000,:-1], mushroom[:10000,:-1], flower[:10000,:-1], cactus[:10000,:-1]), axis=0).astype('float32') # all columns but the last\n"
   ]
  },
  {
   "cell_type": "code",
   "execution_count": 7,
   "metadata": {},
   "outputs": [],
   "source": [
    "y = np.concatenate((cat[:10000,-1], penguin[:10000,-1], ant[:10000,-1], bee[:10000,-1],\\\n",
    "                   flamingo[:10000,-1], owl[:10000,-1], pig[:10000,-1], dolphin[:10000,-1], snake[:10000,-1],\\\n",
    "                    ice_cream[:10000,-1], sun[:10000,-1], mushroom[:10000,-1], flower[:10000,-1], cactus[:10000,-1]\\\n",
    "                   ), axis=0).astype('float32') # the last column"
   ]
  },
  {
   "cell_type": "code",
   "execution_count": 8,
   "metadata": {},
   "outputs": [],
   "source": [
    "# train/test split (divide by 255 to obtain normalized values between 0 and 1)\n",
    "# Use a 50:50 split, training the models on 10'000 samples and thus have plenty of samples to spare for testing.\n",
    "X_train, X_test, y_train, y_test = train_test_split(X/255.,y,test_size=0.2,random_state=0)"
   ]
  },
  {
   "cell_type": "code",
   "execution_count": 10,
   "metadata": {},
   "outputs": [
    {
     "name": "stdout",
     "output_type": "stream",
     "text": [
      "(112000, 1, 28, 28) 14\n"
     ]
    }
   ],
   "source": [
    "# one hot encode outputs\n",
    "y_train_cnn = np_utils.to_categorical(y_train)\n",
    "y_test_cnn = np_utils.to_categorical(y_test)\n",
    "num_classes = y_test_cnn.shape[1]\n",
    "\n",
    "# reshape to be [samples][pixels][width][height]\n",
    "X_train_cnn = X_train.reshape(X_train.shape[0], 1, 28, 28).astype('float32')\n",
    "X_test_cnn = X_test.reshape(X_test.shape[0], 1, 28, 28).astype('float32')\n",
    "s = X_train_cnn.shape\n",
    "print (s, num_classes)"
   ]
  },
  {
   "cell_type": "code",
   "execution_count": 3,
   "metadata": {},
   "outputs": [
    {
     "ename": "NameError",
     "evalue": "name 'Sequential' is not defined",
     "output_type": "error",
     "traceback": [
      "\u001b[1;31m---------------------------------------------------------------------------\u001b[0m",
      "\u001b[1;31mNameError\u001b[0m                                 Traceback (most recent call last)",
      "\u001b[1;32m<ipython-input-3-82ef346ff754>\u001b[0m in \u001b[0;36m<module>\u001b[1;34m()\u001b[0m\n\u001b[1;32m----> 1\u001b[1;33m \u001b[0mmodel\u001b[0m \u001b[1;33m=\u001b[0m \u001b[0mSequential\u001b[0m\u001b[1;33m(\u001b[0m\u001b[1;33m)\u001b[0m\u001b[1;33m\u001b[0m\u001b[0m\n\u001b[0m",
      "\u001b[1;31mNameError\u001b[0m: name 'Sequential' is not defined"
     ]
    }
   ],
   "source": [
    "model = Sequential()"
   ]
  },
  {
   "cell_type": "code",
   "execution_count": 12,
   "metadata": {},
   "outputs": [],
   "source": [
    "model.add(Conv2D(30, (5, 5), input_shape=(1, 28, 28), activation='relu'))\n",
    "model.add(MaxPooling2D(pool_size=(2, 2)))\n",
    "\n",
    "model.add(Conv2D(15, (3, 3), activation='relu'))\n",
    "model.add(MaxPooling2D(pool_size=(2, 2)))\n",
    "    \n",
    "model.add(Dropout(0.2))\n",
    "model.add(Flatten())\n",
    "    \n",
    "model.add(Dense(128, activation='relu'))\n",
    "model.add(Dense(50, activation='relu'))\n",
    "model.add(Dense(num_classes, activation='softmax'))"
   ]
  },
  {
   "cell_type": "code",
   "execution_count": 13,
   "metadata": {},
   "outputs": [],
   "source": [
    "#compile the model\n",
    "model.compile(loss=\"categorical_crossentropy\",\n",
    "             optimizer =\"adam\", metrics=[\"accuracy\"])"
   ]
  },
  {
   "cell_type": "code",
   "execution_count": 14,
   "metadata": {},
   "outputs": [
    {
     "name": "stdout",
     "output_type": "stream",
     "text": [
      "_________________________________________________________________\n",
      "Layer (type)                 Output Shape              Param #   \n",
      "=================================================================\n",
      "conv2d_1 (Conv2D)            (None, 30, 24, 24)        780       \n",
      "_________________________________________________________________\n",
      "max_pooling2d_1 (MaxPooling2 (None, 30, 12, 12)        0         \n",
      "_________________________________________________________________\n",
      "conv2d_2 (Conv2D)            (None, 15, 10, 10)        4065      \n",
      "_________________________________________________________________\n",
      "max_pooling2d_2 (MaxPooling2 (None, 15, 5, 5)          0         \n",
      "_________________________________________________________________\n",
      "dropout_1 (Dropout)          (None, 15, 5, 5)          0         \n",
      "_________________________________________________________________\n",
      "flatten_1 (Flatten)          (None, 375)               0         \n",
      "_________________________________________________________________\n",
      "dense_1 (Dense)              (None, 128)               48128     \n",
      "_________________________________________________________________\n",
      "dense_2 (Dense)              (None, 50)                6450      \n",
      "_________________________________________________________________\n",
      "dense_3 (Dense)              (None, 14)                714       \n",
      "=================================================================\n",
      "Total params: 60,137\n",
      "Trainable params: 60,137\n",
      "Non-trainable params: 0\n",
      "_________________________________________________________________\n"
     ]
    }
   ],
   "source": [
    "model.summary()"
   ]
  },
  {
   "cell_type": "code",
   "execution_count": 16,
   "metadata": {
    "scrolled": true
   },
   "outputs": [
    {
     "name": "stdout",
     "output_type": "stream",
     "text": [
      "Train on 112000 samples, validate on 28000 samples\n",
      "Epoch 1/30\n",
      "112000/112000 [==============================] - 271s 2ms/step - loss: 0.8590 - acc: 0.7332 - val_loss: 0.5634 - val_acc: 0.8257\n",
      "Epoch 2/30\n",
      "112000/112000 [==============================] - 294s 3ms/step - loss: 0.5727 - acc: 0.8219 - val_loss: 0.4840 - val_acc: 0.8496\n",
      "Epoch 3/30\n",
      "112000/112000 [==============================] - 312s 3ms/step - loss: 0.4948 - acc: 0.8450 - val_loss: 0.4355 - val_acc: 0.8665\n",
      "Epoch 4/30\n",
      "112000/112000 [==============================] - 306s 3ms/step - loss: 0.4499 - acc: 0.8587 - val_loss: 0.4130 - val_acc: 0.8729\n",
      "Epoch 5/30\n",
      "112000/112000 [==============================] - 309s 3ms/step - loss: 0.4174 - acc: 0.8687 - val_loss: 0.3940 - val_acc: 0.8772\n",
      "Epoch 6/30\n",
      "112000/112000 [==============================] - 307s 3ms/step - loss: 0.3948 - acc: 0.8753 - val_loss: 0.3803 - val_acc: 0.8828\n",
      "Epoch 7/30\n",
      "112000/112000 [==============================] - 462s 4ms/step - loss: 0.3771 - acc: 0.8812 - val_loss: 0.3708 - val_acc: 0.8861\n",
      "Epoch 8/30\n",
      "112000/112000 [==============================] - 286s 3ms/step - loss: 0.3622 - acc: 0.8856 - val_loss: 0.3608 - val_acc: 0.8882\n",
      "Epoch 9/30\n",
      "112000/112000 [==============================] - 293s 3ms/step - loss: 0.3535 - acc: 0.8891 - val_loss: 0.3627 - val_acc: 0.8859\n",
      "Epoch 10/30\n",
      "112000/112000 [==============================] - 364s 3ms/step - loss: 0.3399 - acc: 0.8917 - val_loss: 0.3566 - val_acc: 0.8875\n",
      "Epoch 11/30\n",
      "112000/112000 [==============================] - 298s 3ms/step - loss: 0.3300 - acc: 0.8937 - val_loss: 0.3694 - val_acc: 0.8874\n",
      "Epoch 12/30\n",
      "112000/112000 [==============================] - 660s 6ms/step - loss: 0.3246 - acc: 0.8951 - val_loss: 0.3502 - val_acc: 0.8929\n",
      "Epoch 13/30\n",
      "112000/112000 [==============================] - 286s 3ms/step - loss: 0.3202 - acc: 0.8973 - val_loss: 0.3631 - val_acc: 0.8886\n",
      "Epoch 14/30\n",
      "112000/112000 [==============================] - 296s 3ms/step - loss: 0.3110 - acc: 0.9005 - val_loss: 0.3541 - val_acc: 0.8920\n",
      "Epoch 15/30\n",
      "112000/112000 [==============================] - 298s 3ms/step - loss: 0.3023 - acc: 0.9021 - val_loss: 0.3579 - val_acc: 0.8905\n",
      "Epoch 16/30\n",
      "112000/112000 [==============================] - 300s 3ms/step - loss: 0.3018 - acc: 0.9022 - val_loss: 0.3490 - val_acc: 0.8941\n",
      "Epoch 17/30\n",
      "112000/112000 [==============================] - 298s 3ms/step - loss: 0.2945 - acc: 0.9051 - val_loss: 0.3531 - val_acc: 0.8933\n",
      "Epoch 18/30\n",
      "112000/112000 [==============================] - 299s 3ms/step - loss: 0.2923 - acc: 0.9058 - val_loss: 0.3472 - val_acc: 0.8936\n",
      "Epoch 19/30\n",
      "112000/112000 [==============================] - 299s 3ms/step - loss: 0.2869 - acc: 0.9060 - val_loss: 0.3575 - val_acc: 0.8928\n",
      "Epoch 20/30\n",
      "112000/112000 [==============================] - 300s 3ms/step - loss: 0.2850 - acc: 0.9075 - val_loss: 0.3482 - val_acc: 0.8961\n",
      "Epoch 21/30\n",
      "112000/112000 [==============================] - 299s 3ms/step - loss: 0.2823 - acc: 0.9080 - val_loss: 0.3487 - val_acc: 0.8956\n",
      "Epoch 22/30\n",
      "112000/112000 [==============================] - 302s 3ms/step - loss: 0.2779 - acc: 0.9100 - val_loss: 0.3494 - val_acc: 0.8946\n",
      "Epoch 23/30\n",
      "112000/112000 [==============================] - 297s 3ms/step - loss: 0.2758 - acc: 0.9108 - val_loss: 0.3538 - val_acc: 0.8916\n",
      "Epoch 24/30\n",
      "112000/112000 [==============================] - 305s 3ms/step - loss: 0.2732 - acc: 0.9112 - val_loss: 0.3558 - val_acc: 0.8942\n",
      "Epoch 25/30\n",
      "112000/112000 [==============================] - 315s 3ms/step - loss: 0.2695 - acc: 0.9116 - val_loss: 0.3573 - val_acc: 0.8920\n",
      "Epoch 26/30\n",
      "112000/112000 [==============================] - 319s 3ms/step - loss: 0.2667 - acc: 0.9129 - val_loss: 0.3610 - val_acc: 0.8955\n",
      "Epoch 27/30\n",
      "112000/112000 [==============================] - 314s 3ms/step - loss: 0.2654 - acc: 0.9128 - val_loss: 0.3616 - val_acc: 0.8943\n",
      "Epoch 28/30\n",
      "112000/112000 [==============================] - 306s 3ms/step - loss: 0.2643 - acc: 0.9132 - val_loss: 0.3640 - val_acc: 0.8906\n",
      "Epoch 29/30\n",
      "112000/112000 [==============================] - 305s 3ms/step - loss: 0.2616 - acc: 0.9147 - val_loss: 0.3574 - val_acc: 0.8938\n",
      "Epoch 30/30\n",
      "112000/112000 [==============================] - 303s 3ms/step - loss: 0.2596 - acc: 0.9142 - val_loss: 0.3511 - val_acc: 0.8944\n",
      "Model is saved\n"
     ]
    }
   ],
   "source": [
    "model.fit(\n",
    "    X_train_cnn,\n",
    "    y_train_cnn,\n",
    "    validation_data=(X_test_cnn, y_test_cnn),\n",
    "    epochs = 30,\n",
    "    batch_size = 50\n",
    ")\n",
    "\n",
    "model.save_weights('quickdraw_neuralnet.h5')\n",
    "model.save('quickdraw.model')\n",
    "print (\"Model is saved\")"
   ]
  },
  {
   "cell_type": "code",
   "execution_count": 1,
   "metadata": {},
   "outputs": [
    {
     "ename": "NameError",
     "evalue": "name 'model' is not defined",
     "output_type": "error",
     "traceback": [
      "\u001b[1;31m---------------------------------------------------------------------------\u001b[0m",
      "\u001b[1;31mNameError\u001b[0m                                 Traceback (most recent call last)",
      "\u001b[1;32m<ipython-input-1-de0bae8064dd>\u001b[0m in \u001b[0;36m<module>\u001b[1;34m()\u001b[0m\n\u001b[1;32m----> 1\u001b[1;33m \u001b[0mmodel\u001b[0m\u001b[1;33m.\u001b[0m\u001b[0mload_weights\u001b[0m\u001b[1;33m(\u001b[0m\u001b[1;34m'quickdraw_neuralnet.h5'\u001b[0m\u001b[1;33m)\u001b[0m\u001b[1;33m\u001b[0m\u001b[0m\n\u001b[0m",
      "\u001b[1;31mNameError\u001b[0m: name 'model' is not defined"
     ]
    }
   ],
   "source": [
    "\n",
    "model.load_weights('quickdraw_neuralnet.h5')"
   ]
  },
  {
   "cell_type": "code",
   "execution_count": 17,
   "metadata": {},
   "outputs": [
    {
     "name": "stdout",
     "output_type": "stream",
     "text": [
      "Loss: 0.3511195683617677, Accuracy: 0.8943571428571429\n"
     ]
    }
   ],
   "source": [
    "model_loss, model_accuracy = model.evaluate(X_test_cnn, y_test_cnn, verbose=2)\n",
    "print(f\"Loss: {model_loss}, Accuracy: {model_accuracy}\")"
   ]
  },
  {
   "cell_type": "code",
   "execution_count": 18,
   "metadata": {},
   "outputs": [
    {
     "data": {
      "image/png": "[encoded data removed]",
      "text/plain": [
       "<Figure size 432x288 with 1 Axes>"
      ]
     },
     "metadata": {},
     "output_type": "display_data"
    }
   ],
   "source": [
    "plt.plot(history.history['acc'])\n",
    "plt.plot(history.history['val_acc'])\n",
    "plt.title('Model Accuracy')\n",
    "plt.ylabel('Accuracy')\n",
    "plt.xlabel('Epoch')\n",
    "plt.legend(['Train', 'Test'], loc = 'upper left')\n",
    "plt.show()"
   ]
  },
  {
   "cell_type": "code",
   "execution_count": 19,
   "metadata": {},
   "outputs": [
    {
     "data": {
      "image/png": "[encoded data removed]",
      "text/plain": [
       "<Figure size 432x288 with 1 Axes>"
      ]
     },
     "metadata": {},
     "output_type": "display_data"
    }
   ],
   "source": [
    "# Summarizing the history of loss\n",
    "plt.plot(history.history['loss'])\n",
    "plt.plot(history.history['val_loss'])\n",
    "plt.title('Model Loss')\n",
    "plt.xlabel('Epoch')\n",
    "plt.ylabel('Loss')\n",
    "plt.legend(['Train', 'Test'], loc = 'upper left')\n",
    "plt.show()"
   ]
  },
  {
   "cell_type": "code",
   "execution_count": 20,
   "metadata": {},
   "outputs": [
    {
     "name": "stdout",
     "output_type": "stream",
     "text": [
      "_________________________________________________________________\n",
      "Layer (type)                 Output Shape              Param #   \n",
      "=================================================================\n",
      "conv2d_1 (Conv2D)            (None, 30, 24, 24)        780       \n",
      "_________________________________________________________________\n",
      "max_pooling2d_1 (MaxPooling2 (None, 30, 12, 12)        0         \n",
      "_________________________________________________________________\n",
      "conv2d_2 (Conv2D)            (None, 15, 10, 10)        4065      \n",
      "_________________________________________________________________\n",
      "max_pooling2d_2 (MaxPooling2 (None, 15, 5, 5)          0         \n",
      "_________________________________________________________________\n",
      "dropout_1 (Dropout)          (None, 15, 5, 5)          0         \n",
      "_________________________________________________________________\n",
      "flatten_1 (Flatten)          (None, 375)               0         \n",
      "_________________________________________________________________\n",
      "dense_1 (Dense)              (None, 128)               48128     \n",
      "_________________________________________________________________\n",
      "dense_2 (Dense)              (None, 50)                6450      \n",
      "_________________________________________________________________\n",
      "dense_3 (Dense)              (None, 14)                714       \n",
      "=================================================================\n",
      "Total params: 60,137\n",
      "Trainable params: 60,137\n",
      "Non-trainable params: 0\n",
      "_________________________________________________________________\n"
     ]
    }
   ],
   "source": [
    "model = load_model(\"quickdraw.model\")\n",
    "model.summary()"
   ]
  },
  {
   "cell_type": "code",
   "execution_count": 68,
   "metadata": {},
   "outputs": [],
   "source": [
    "filepath = \"cactus.png\""
   ]
  },
  {
   "cell_type": "code",
   "execution_count": 69,
   "metadata": {},
   "outputs": [
    {
     "data": {
      "image/png": "[encoded data removed]",
      "text/plain": [
       "<PIL.Image.Image image mode=L size=28x28 at 0x1631E13AF60>"
      ]
     },
     "execution_count": 69,
     "metadata": {},
     "output_type": "execute_result"
    }
   ],
   "source": [
    "from keras.preprocessing import image\n",
    "image_size = (28, 28)\n",
    "im = image.load_img(filepath, target_size = image_size, color_mode = \"grayscale\")\n",
    "im"
   ]
  },
  {
   "cell_type": "code",
   "execution_count": 70,
   "metadata": {},
   "outputs": [
    {
     "data": {
      "text/plain": [
       "(1, 28, 28)"
      ]
     },
     "execution_count": 70,
     "metadata": {},
     "output_type": "execute_result"
    }
   ],
   "source": [
    "from keras.preprocessing.image import img_to_array\n",
    "image = img_to_array(im)\n",
    "image.shape"
   ]
  },
  {
   "cell_type": "code",
   "execution_count": 71,
   "metadata": {},
   "outputs": [
    {
     "data": {
      "text/plain": [
       "(1, 1, 28, 28)"
      ]
     },
     "execution_count": 71,
     "metadata": {},
     "output_type": "execute_result"
    }
   ],
   "source": [
    "image /= 255\n",
    "\n",
    "img = image.flatten().reshape(1,1,28,28)\n",
    "img.shape"
   ]
  },
  {
   "cell_type": "code",
   "execution_count": 72,
   "metadata": {},
   "outputs": [
    {
     "data": {
      "text/plain": [
       "<matplotlib.image.AxesImage at 0x1631ce12940>"
      ]
     },
     "execution_count": 72,
     "metadata": {},
     "output_type": "execute_result"
    },
    {
     "data": {
      "image/png": "[encoded data removed]",
      "text/plain": [
       "<Figure size 432x288 with 1 Axes>"
      ]
     },
     "metadata": {},
     "output_type": "display_data"
    }
   ],
   "source": [
    "plt.imshow(img.reshape(28, 28), cmap = plt.cm.Greys)"
   ]
  },
  {
   "cell_type": "code",
   "execution_count": 73,
   "metadata": {
    "scrolled": true
   },
   "outputs": [
    {
     "data": {
      "text/plain": [
       "<matplotlib.image.AxesImage at 0x163001717b8>"
      ]
     },
     "execution_count": 73,
     "metadata": {},
     "output_type": "execute_result"
    },
    {
     "data": {
      "image/png": "[encoded data removed]",
      "text/plain": [
       "<Figure size 432x288 with 1 Axes>"
      ]
     },
     "metadata": {},
     "output_type": "display_data"
    }
   ],
   "source": [
    "img = 1- img\n",
    "plt.imshow(img.reshape(28,28), cmap = plt.cm.Greys)"
   ]
  },
  {
   "cell_type": "code",
   "execution_count": 2,
   "metadata": {},
   "outputs": [
    {
     "ename": "NameError",
     "evalue": "name 'model' is not defined",
     "output_type": "error",
     "traceback": [
      "\u001b[1;31m---------------------------------------------------------------------------\u001b[0m",
      "\u001b[1;31mNameError\u001b[0m                                 Traceback (most recent call last)",
      "\u001b[1;32m<ipython-input-2-b4adbdaecc88>\u001b[0m in \u001b[0;36m<module>\u001b[1;34m()\u001b[0m\n\u001b[1;32m----> 1\u001b[1;33m \u001b[0mmodel\u001b[0m\u001b[1;33m.\u001b[0m\u001b[0mload_weights\u001b[0m\u001b[1;33m\u001b[0m\u001b[0m\n\u001b[0m",
      "\u001b[1;31mNameError\u001b[0m: name 'model' is not defined"
     ]
    }
   ],
   "source": [
    "model.load_weights"
   ]
  },
  {
   "cell_type": "code",
   "execution_count": 74,
   "metadata": {},
   "outputs": [
    {
     "data": {
      "text/plain": [
       "array([10], dtype=int64)"
      ]
     },
     "execution_count": 74,
     "metadata": {},
     "output_type": "execute_result"
    }
   ],
   "source": [
    "model.predict_classes(img)"
   ]
  },
  {
   "cell_type": "code",
   "execution_count": null,
   "metadata": {},
   "outputs": [],
   "source": []
  },
  {
   "cell_type": "code",
   "execution_count": null,
   "metadata": {},
   "outputs": [],
   "source": []
  }
 ],
 "metadata": {
  "kernelspec": {
   "display_name": "Python 3",
   "language": "python",
   "name": "python3"
  },
  "language_info": {
   "codemirror_mode": {
    "name": "ipython",
    "version": 3
   },
   "file_extension": ".py",
   "mimetype": "text/x-python",
   "name": "python",
   "nbconvert_exporter": "python",
   "pygments_lexer": "ipython3",
   "version": "3.6.5"
  }
 },
 "nbformat": 4,
 "nbformat_minor": 2
}
