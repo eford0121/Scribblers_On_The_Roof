{
 "cells": [
  {
   "cell_type": "code",
   "execution_count": 2,
   "metadata": {},
   "outputs": [
    {
     "name": "stderr",
     "output_type": "stream",
     "text": [
      "C:\\Users\\Erin.Ford\\anaconda\\Anaconda3\\lib\\site-packages\\h5py\\__init__.py:36: FutureWarning: Conversion of the second argument of issubdtype from `float` to `np.floating` is deprecated. In future, it will be treated as `np.float64 == np.dtype(float).type`.\n",
      "  from ._conv import register_converters as _register_converters\n",
      "Using TensorFlow backend.\n"
     ]
    }
   ],
   "source": [
    "import numpy as np\n",
    "import os\n",
    "\n",
    "import pandas as pd\n",
    "%matplotlib inline\n",
    "import matplotlib.pyplot as plt\n",
    "from sklearn.model_selection import train_test_split, GridSearchCV\n",
    "import keras\n",
    "from keras.models import Sequential, load_model\n",
    "from keras.layers import Dense, Dropout, Flatten\n",
    "from keras.layers.convolutional import Conv2D, MaxPooling2D\n",
    "from keras.utils import np_utils\n",
    "from keras import backend as K\n",
    "from keras.utils import to_categorical\n",
    "K.set_image_dim_ordering('th')\n",
    "from sklearn.preprocessing import MinMaxScaler"
   ]
  },
  {
   "cell_type": "code",
   "execution_count": 3,
   "metadata": {
    "scrolled": true
   },
   "outputs": [
    {
     "name": "stdout",
     "output_type": "stream",
     "text": [
      "no_of_pics, pixels_size\n",
      "(123202, 784)\n",
      "(253791, 784)\n",
      "(124612, 784)\n",
      "(120890, 784)\n"
     ]
    }
   ],
   "source": [
    "cat = np.load('cat.npy')\n",
    "penguin = np.load('penguin.npy')\n",
    "ant = np.load('ant.npy')\n",
    "bee = np.load('bee.npy')\n",
    "\n",
    "\n",
    "# print number of images in dataset and numpy array size of each image\n",
    "print (\"no_of_pics, pixels_size\")\n",
    "print(cat.shape)\n",
    "print(penguin.shape)\n",
    "print(ant.shape)\n",
    "print(bee.shape)\n"
   ]
  },
  {
   "cell_type": "code",
   "execution_count": 4,
   "metadata": {},
   "outputs": [],
   "source": [
    "#Add a column to each one as an identifier\n",
    "cat = np.c_[cat, np.zeros(len(cat))]\n",
    "penguin = np.c_[penguin, np.ones(len(penguin))]\n",
    "ant = np.c_[ant, 2*np.ones(len(ant))]\n",
    "bee = np.c_[bee, 3*np.ones(len(bee))]"
   ]
  },
  {
   "cell_type": "code",
   "execution_count": 5,
   "metadata": {},
   "outputs": [],
   "source": [
    "def plot_samples(input_array, rows=1, cols=5, title=''):\n",
    "    fig, ax = plt.subplots(figsize=(cols,rows))\n",
    "    ax.axis('off')\n",
    "    plt.title(title)\n",
    "\n",
    "    for i in list(range(0, min(len(input_array),(rows*cols)) )):      \n",
    "        a = fig.add_subplot(rows,cols,i+1)\n",
    "        imgplot = plt.imshow(input_array[i,:784].reshape((28,28)), cmap='gray_r', interpolation='nearest')\n",
    "        plt.xticks([])\n",
    "        plt.yticks([])"
   ]
  },
  {
   "cell_type": "code",
   "execution_count": 6,
   "metadata": {},
   "outputs": [
    {
     "data": {
      "image/png": "[encoded data removed]",
      "text/plain": [
       "<Figure size 360x72 with 6 Axes>"
      ]
     },
     "metadata": {},
     "output_type": "display_data"
    }
   ],
   "source": [
    "plot_samples(cat, title='Sample cat\\n')"
   ]
  },
  {
   "cell_type": "code",
   "execution_count": 8,
   "metadata": {},
   "outputs": [],
   "source": [
    "# merge the arrays, and split the features (X) and labels (y). Convert to float32 to save some memory.\n",
    "X = np.concatenate((cat[:10000,:-1], penguin[:10000,:-1], ant[:10000,:-1], bee[:10000,:-1]), axis=0).astype('float32') # all columns but the last\n",
    "y = np.concatenate((cat[:10000,-1], penguin[:10000,-1], ant[:10000,-1], bee[:10000,-1]), axis=0).astype('float32') # the last column\n",
    "\n",
    "# train/test split (divide by 255 to obtain normalized values between 0 and 1)\n",
    "# Use a 50:50 split, training the models on 10'000 samples and thus have plenty of samples to spare for testing.\n",
    "X_train, X_test, y_train, y_test = train_test_split(X/255.,y,test_size=0.5,random_state=0)"
   ]
  },
  {
   "cell_type": "code",
   "execution_count": 9,
   "metadata": {},
   "outputs": [],
   "source": [
    "scaler = MinMaxScaler().fit(X_train)\n",
    "\n",
    "X_train = scaler.transform(X_train)\n",
    "X_test = scaler.transform(X_test)"
   ]
  },
  {
   "cell_type": "code",
   "execution_count": 11,
   "metadata": {},
   "outputs": [
    {
     "data": {
      "text/plain": [
       "array([0., 1., 0., 0.], dtype=float32)"
      ]
     },
     "execution_count": 11,
     "metadata": {},
     "output_type": "execute_result"
    }
   ],
   "source": [
    "num_classes = 4\n",
    "\n",
    "y_train = to_categorical(y_train, num_classes)\n",
    "y_test = to_categorical(y_test, num_classes)\n",
    "y_train[0]"
   ]
  },
  {
   "cell_type": "code",
   "execution_count": 12,
   "metadata": {},
   "outputs": [],
   "source": [
    "#create empty sequential model\n",
    "model = Sequential()"
   ]
  },
  {
   "cell_type": "code",
   "execution_count": 13,
   "metadata": {},
   "outputs": [],
   "source": [
    "#first hidden layer\n",
    "model.add(Dense(100, activation='relu', input_dim=X_train.shape[1]))"
   ]
  },
  {
   "cell_type": "code",
   "execution_count": 14,
   "metadata": {},
   "outputs": [],
   "source": [
    "#second hidden layer\n",
    "model.add(Dense(100, activation='relu'))"
   ]
  },
  {
   "cell_type": "code",
   "execution_count": 15,
   "metadata": {},
   "outputs": [],
   "source": [
    "#final output layer where number of nodes corresponds to the number of y labels\n",
    "model.add(Dense(num_classes, activation='softmax'))"
   ]
  },
  {
   "cell_type": "code",
   "execution_count": 16,
   "metadata": {},
   "outputs": [],
   "source": [
    "#compile the model\n",
    "model.compile(loss=\"categorical_crossentropy\",\n",
    "             optimizer =\"adam\", metrics=[\"accuracy\"])"
   ]
  },
  {
   "cell_type": "code",
   "execution_count": 17,
   "metadata": {},
   "outputs": [
    {
     "name": "stdout",
     "output_type": "stream",
     "text": [
      "_________________________________________________________________\n",
      "Layer (type)                 Output Shape              Param #   \n",
      "=================================================================\n",
      "dense_1 (Dense)              (None, 100)               78500     \n",
      "_________________________________________________________________\n",
      "dense_2 (Dense)              (None, 100)               10100     \n",
      "_________________________________________________________________\n",
      "dense_3 (Dense)              (None, 4)                 404       \n",
      "=================================================================\n",
      "Total params: 89,004\n",
      "Trainable params: 89,004\n",
      "Non-trainable params: 0\n",
      "_________________________________________________________________\n"
     ]
    }
   ],
   "source": [
    "model.summary()"
   ]
  },
  {
   "cell_type": "code",
   "execution_count": 18,
   "metadata": {},
   "outputs": [
    {
     "name": "stdout",
     "output_type": "stream",
     "text": [
      "Train on 20000 samples, validate on 20000 samples\n",
      "Epoch 1/30\n",
      " - 4s - loss: 0.6357 - acc: 0.7573 - val_loss: 0.5322 - val_acc: 0.8066\n",
      "Epoch 2/30\n",
      " - 3s - loss: 0.4732 - acc: 0.8269 - val_loss: 0.4942 - val_acc: 0.8177\n",
      "Epoch 3/30\n",
      " - 3s - loss: 0.3960 - acc: 0.8591 - val_loss: 0.4612 - val_acc: 0.8335\n",
      "Epoch 4/30\n",
      " - 3s - loss: 0.3309 - acc: 0.8808 - val_loss: 0.4397 - val_acc: 0.8451\n",
      "Epoch 5/30\n",
      " - 3s - loss: 0.2759 - acc: 0.9034 - val_loss: 0.4503 - val_acc: 0.8477\n",
      "Epoch 6/30\n",
      " - 3s - loss: 0.2282 - acc: 0.9230 - val_loss: 0.4436 - val_acc: 0.8485\n",
      "Epoch 7/30\n",
      " - 3s - loss: 0.1892 - acc: 0.9356 - val_loss: 0.5021 - val_acc: 0.8448\n",
      "Epoch 8/30\n",
      " - 3s - loss: 0.1551 - acc: 0.9478 - val_loss: 0.5428 - val_acc: 0.8358\n",
      "Epoch 9/30\n",
      " - 3s - loss: 0.1275 - acc: 0.9573 - val_loss: 0.5802 - val_acc: 0.8428\n",
      "Epoch 10/30\n",
      " - 3s - loss: 0.1001 - acc: 0.9670 - val_loss: 0.6052 - val_acc: 0.8426\n",
      "Epoch 11/30\n",
      " - 3s - loss: 0.0899 - acc: 0.9709 - val_loss: 0.6375 - val_acc: 0.8446\n",
      "Epoch 12/30\n",
      " - 4s - loss: 0.0769 - acc: 0.9736 - val_loss: 0.6845 - val_acc: 0.8399\n",
      "Epoch 13/30\n",
      " - 3s - loss: 0.0593 - acc: 0.9802 - val_loss: 0.7905 - val_acc: 0.8379\n",
      "Epoch 14/30\n",
      " - 3s - loss: 0.0621 - acc: 0.9795 - val_loss: 0.8159 - val_acc: 0.8260\n",
      "Epoch 15/30\n",
      " - 3s - loss: 0.0581 - acc: 0.9801 - val_loss: 0.8260 - val_acc: 0.8368\n",
      "Epoch 16/30\n",
      " - 3s - loss: 0.0468 - acc: 0.9849 - val_loss: 0.8509 - val_acc: 0.8354\n",
      "Epoch 17/30\n",
      " - 3s - loss: 0.0414 - acc: 0.9858 - val_loss: 0.8849 - val_acc: 0.8452\n",
      "Epoch 18/30\n",
      " - 3s - loss: 0.0436 - acc: 0.9852 - val_loss: 0.9136 - val_acc: 0.8410\n",
      "Epoch 19/30\n",
      " - 4s - loss: 0.0341 - acc: 0.9882 - val_loss: 0.9391 - val_acc: 0.8407\n",
      "Epoch 20/30\n",
      " - 4s - loss: 0.0348 - acc: 0.9882 - val_loss: 0.9732 - val_acc: 0.8323\n",
      "Epoch 21/30\n",
      " - 3s - loss: 0.0387 - acc: 0.9861 - val_loss: 0.9539 - val_acc: 0.8444\n",
      "Epoch 22/30\n",
      " - 3s - loss: 0.0345 - acc: 0.9877 - val_loss: 0.9857 - val_acc: 0.8380\n",
      "Epoch 23/30\n",
      " - 3s - loss: 0.0273 - acc: 0.9911 - val_loss: 1.0211 - val_acc: 0.8388\n",
      "Epoch 24/30\n",
      " - 3s - loss: 0.0310 - acc: 0.9900 - val_loss: 1.0346 - val_acc: 0.8417\n",
      "Epoch 25/30\n",
      " - 3s - loss: 0.0327 - acc: 0.9890 - val_loss: 1.0336 - val_acc: 0.8426\n",
      "Epoch 26/30\n",
      " - 3s - loss: 0.0224 - acc: 0.9926 - val_loss: 1.0065 - val_acc: 0.8440\n",
      "Epoch 27/30\n",
      " - 3s - loss: 0.0185 - acc: 0.9934 - val_loss: 1.1450 - val_acc: 0.8360\n",
      "Epoch 28/30\n",
      " - 3s - loss: 0.0352 - acc: 0.9886 - val_loss: 1.0125 - val_acc: 0.8450\n",
      "Epoch 29/30\n",
      " - 3s - loss: 0.0191 - acc: 0.9937 - val_loss: 1.0577 - val_acc: 0.8450\n",
      "Epoch 30/30\n",
      " - 4s - loss: 0.0319 - acc: 0.9897 - val_loss: 1.1114 - val_acc: 0.8433\n",
      "Model is saved\n"
     ]
    }
   ],
   "source": [
    "history = model.fit(\n",
    "    X_train,\n",
    "    y_train,\n",
    "    validation_data=(X_test, y_test),\n",
    "    epochs = 30,\n",
    "    shuffle=True,\n",
    "    verbose = 2\n",
    ")\n",
    "history\n",
    "model.save_weights('quickdraw_neuralnet.h5')\n",
    "model.save('quickdraw.model')\n",
    "print (\"Model is saved\")"
   ]
  },
  {
   "cell_type": "code",
   "execution_count": 19,
   "metadata": {},
   "outputs": [
    {
     "name": "stdout",
     "output_type": "stream",
     "text": [
      "Loss: 1.1114247790113092, Accuracy: 0.84325\n"
     ]
    }
   ],
   "source": [
    "model_loss, model_accuracy = model.evaluate(X_test, y_test, verbose=2)\n",
    "print(f\"Loss: {model_loss}, Accuracy: {model_accuracy}\")"
   ]
  },
  {
   "cell_type": "code",
   "execution_count": 20,
   "metadata": {},
   "outputs": [
    {
     "data": {
      "image/png": "[encoded data removed]",
      "text/plain": [
       "<Figure size 432x288 with 1 Axes>"
      ]
     },
     "metadata": {},
     "output_type": "display_data"
    }
   ],
   "source": [
    "plt.plot(history.history['acc'])\n",
    "plt.plot(history.history['val_acc'])\n",
    "plt.title('Model Accuracy')\n",
    "plt.ylabel('Accuracy')\n",
    "plt.xlabel('Epoch')\n",
    "plt.legend(['Train', 'Test'], loc = 'upper left')\n",
    "plt.show()"
   ]
  },
  {
   "cell_type": "code",
   "execution_count": 21,
   "metadata": {},
   "outputs": [
    {
     "data": {
      "image/png": "[encoded data removed]",
      "text/plain": [
       "<Figure size 432x288 with 1 Axes>"
      ]
     },
     "metadata": {},
     "output_type": "display_data"
    }
   ],
   "source": [
    "# Summarizing the history of loss\n",
    "plt.plot(history.history['loss'])\n",
    "plt.plot(history.history['val_loss'])\n",
    "plt.title('Model Loss')\n",
    "plt.xlabel('Epoch')\n",
    "plt.ylabel('Loss')\n",
    "plt.legend(['Train', 'Test'], loc = 'upper left')\n",
    "plt.show()"
   ]
  },
  {
   "cell_type": "code",
   "execution_count": 22,
   "metadata": {},
   "outputs": [
    {
     "name": "stdout",
     "output_type": "stream",
     "text": [
      "_________________________________________________________________\n",
      "Layer (type)                 Output Shape              Param #   \n",
      "=================================================================\n",
      "dense_1 (Dense)              (None, 100)               78500     \n",
      "_________________________________________________________________\n",
      "dense_2 (Dense)              (None, 100)               10100     \n",
      "_________________________________________________________________\n",
      "dense_3 (Dense)              (None, 4)                 404       \n",
      "=================================================================\n",
      "Total params: 89,004\n",
      "Trainable params: 89,004\n",
      "Non-trainable params: 0\n",
      "_________________________________________________________________\n"
     ]
    }
   ],
   "source": [
    "model = load_model(\"quickdraw.model\")\n",
    "model.summary()"
   ]
  },
  {
   "cell_type": "code",
   "execution_count": 24,
   "metadata": {},
   "outputs": [],
   "source": [
    "filepath = \"Penguin1.png\""
   ]
  },
  {
   "cell_type": "code",
   "execution_count": 25,
   "metadata": {},
   "outputs": [
    {
     "data": {
      "image/png": "[encoded data removed]",
      "text/plain": [
       "<PIL.Image.Image image mode=L size=28x28 at 0x15F8177F080>"
      ]
     },
     "execution_count": 25,
     "metadata": {},
     "output_type": "execute_result"
    }
   ],
   "source": [
    "from keras.preprocessing import image\n",
    "image_size = (28, 28)\n",
    "im = image.load_img(filepath, target_size = image_size, color_mode = \"grayscale\")\n",
    "im"
   ]
  },
  {
   "cell_type": "code",
   "execution_count": 26,
   "metadata": {},
   "outputs": [
    {
     "data": {
      "text/plain": [
       "(1, 28, 28)"
      ]
     },
     "execution_count": 26,
     "metadata": {},
     "output_type": "execute_result"
    }
   ],
   "source": [
    "from keras.preprocessing.image import img_to_array\n",
    "image = img_to_array(im)\n",
    "image.shape"
   ]
  },
  {
   "cell_type": "code",
   "execution_count": 27,
   "metadata": {},
   "outputs": [
    {
     "data": {
      "text/plain": [
       "(1, 784)"
      ]
     },
     "execution_count": 27,
     "metadata": {},
     "output_type": "execute_result"
    }
   ],
   "source": [
    "image /= 255\n",
    "\n",
    "img = image.flatten().reshape(-1, 28*28)\n",
    "img.shape"
   ]
  },
  {
   "cell_type": "code",
   "execution_count": 28,
   "metadata": {},
   "outputs": [
    {
     "data": {
      "text/plain": [
       "<matplotlib.image.AxesImage at 0x15f82c740b8>"
      ]
     },
     "execution_count": 28,
     "metadata": {},
     "output_type": "execute_result"
    },
    {
     "data": {
      "image/png": "[encoded data removed]",
      "text/plain": [
       "<Figure size 432x288 with 1 Axes>"
      ]
     },
     "metadata": {},
     "output_type": "display_data"
    }
   ],
   "source": [
    "plt.imshow(img.reshape(28, 28), cmap = plt.cm.Greys)"
   ]
  },
  {
   "cell_type": "code",
   "execution_count": 29,
   "metadata": {},
   "outputs": [
    {
     "data": {
      "text/plain": [
       "<matplotlib.image.AxesImage at 0x15f80668f28>"
      ]
     },
     "execution_count": 29,
     "metadata": {},
     "output_type": "execute_result"
    },
    {
     "data": {
      "image/png": "[encoded data removed]",
      "text/plain": [
       "<Figure size 432x288 with 1 Axes>"
      ]
     },
     "metadata": {},
     "output_type": "display_data"
    }
   ],
   "source": [
    "img = 1- img\n",
    "plt.imshow(img.reshape(28,28), cmap = plt.cm.Greys)"
   ]
  },
  {
   "cell_type": "markdown",
   "metadata": {},
   "source": [
    "model.predict_classes(img)"
   ]
  },
  {
   "cell_type": "code",
   "execution_count": 30,
   "metadata": {},
   "outputs": [
    {
     "data": {
      "text/plain": [
       "array([1], dtype=int64)"
      ]
     },
     "execution_count": 30,
     "metadata": {},
     "output_type": "execute_result"
    }
   ],
   "source": [
    "model.predict_classes(img)"
   ]
  },
  {
   "cell_type": "code",
   "execution_count": null,
   "metadata": {},
   "outputs": [],
   "source": []
  }
 ],
 "metadata": {
  "kernelspec": {
   "display_name": "Python 3",
   "language": "python",
   "name": "python3"
  },
  "language_info": {
   "codemirror_mode": {
    "name": "ipython",
    "version": 3
   },
   "file_extension": ".py",
   "mimetype": "text/x-python",
   "name": "python",
   "nbconvert_exporter": "python",
   "pygments_lexer": "ipython3",
   "version": "3.6.5"
  }
 },
 "nbformat": 4,
 "nbformat_minor": 2
}
